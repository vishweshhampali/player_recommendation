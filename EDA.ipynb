{
 "cells": [
  {
   "cell_type": "code",
   "execution_count": 1,
   "metadata": {},
   "outputs": [],
   "source": [
    "import json"
   ]
  },
  {
   "cell_type": "code",
   "execution_count": 2,
   "metadata": {},
   "outputs": [],
   "source": [
    "with open(r\"odis_json\\64814.json\", mode=\"r\", encoding=\"utf-8\") as read_file:\n",
    "    file_data = json.load(read_file)"
   ]
  },
  {
   "cell_type": "code",
   "execution_count": 12,
   "metadata": {},
   "outputs": [
    {
     "name": "stdout",
     "output_type": "stream",
     "text": [
      "Match summary JSON file created: match_summary_with_players.json\n"
     ]
    }
   ],
   "source": [
    "# Extract match info directly\n",
    "match_summary = file_data[\"info\"]  # Keeping the original structure\n",
    "\n",
    "# Initialize innings summary\n",
    "innings_summary = []\n",
    "\n",
    "for inning in file_data[\"innings\"]:\n",
    "    team = inning[\"team\"]\n",
    "    total_runs = 0\n",
    "    total_wickets = 0\n",
    "    total_extras = 0\n",
    "    batsmen_stats = {}\n",
    "    bowlers_stats = {}\n",
    "\n",
    "    for over in inning[\"overs\"]:\n",
    "        for delivery in over[\"deliveries\"]:\n",
    "            batter = delivery[\"batter\"]\n",
    "            bowler = delivery[\"bowler\"]\n",
    "            runs = delivery[\"runs\"][\"total\"]\n",
    "            extras = delivery[\"runs\"][\"extras\"]\n",
    "            total_runs += runs\n",
    "            total_extras += extras\n",
    "\n",
    "            # Batting stats\n",
    "            if batter not in batsmen_stats:\n",
    "                batsmen_stats[batter] = {\"runs\": 0, \"balls\": 0, \"strike_rate\": 0}\n",
    "            batsmen_stats[batter][\"runs\"] += delivery[\"runs\"][\"batter\"]\n",
    "            batsmen_stats[batter][\"balls\"] += 1\n",
    "\n",
    "            # Bowling stats\n",
    "            if bowler not in bowlers_stats:\n",
    "                bowlers_stats[bowler] = {\"runs_given\": 0, \"wickets\": 0, \"balls\": 0}\n",
    "            bowlers_stats[bowler][\"runs_given\"] += runs\n",
    "            bowlers_stats[bowler][\"balls\"] += 1\n",
    "\n",
    "            # Wicket stats\n",
    "            if \"wickets\" in delivery:\n",
    "                total_wickets += 1\n",
    "                if bowler in bowlers_stats:\n",
    "                    bowlers_stats[bowler][\"wickets\"] += 1\n",
    "\n",
    "    # Compute strike rate for batsmen\n",
    "    for batter, stats in batsmen_stats.items():\n",
    "        if stats[\"balls\"] > 0:\n",
    "            stats[\"strike_rate\"] = round((stats[\"runs\"] / stats[\"balls\"]) * 100, 2)\n",
    "\n",
    "    # Compute economy rate for bowlers\n",
    "    for bowler, stats in bowlers_stats.items():\n",
    "        overs_bowled = stats[\"balls\"] / 6\n",
    "        stats[\"overs\"] = round(overs_bowled, 1)\n",
    "        if overs_bowled > 0:\n",
    "            stats[\"economy\"] = round(stats[\"runs_given\"] / overs_bowled, 2)\n",
    "\n",
    "    # Find top performers\n",
    "    top_scorer = max(batsmen_stats.items(), key=lambda x: x[1][\"runs\"], default=(None, {}))\n",
    "    best_bowler = max(bowlers_stats.items(), key=lambda x: x[1][\"wickets\"], default=(None, {}))\n",
    "\n",
    "    innings_summary.append({\n",
    "        \"team\": team,\n",
    "        \"total_runs\": total_runs,\n",
    "        \"total_wickets\": total_wickets,\n",
    "        \"total_extras\": total_extras,\n",
    "        \"top_scorer\": {\"player\": top_scorer[0], \"runs\": top_scorer[1].get(\"runs\", 0)},\n",
    "        \"best_bowler\": {\"player\": best_bowler[0], \"wickets\": best_bowler[1].get(\"wickets\", 0)},\n",
    "        \"batting_contributions\": batsmen_stats,\n",
    "        \"bowling_contributions\": bowlers_stats\n",
    "    })\n",
    "\n",
    "# Combine match summary and innings summary\n",
    "match_scorecard = {\n",
    "    \"match_summary\": match_summary,  # Keeping \"info\" as it is\n",
    "    \"innings_summary\": innings_summary\n",
    "}\n",
    "\n",
    "# Save the summary as JSON\n",
    "output_file = \"match_summary_with_players.json\"  # Change this to your desired output path\n",
    "with open(output_file, \"w\") as f:\n",
    "    json.dump(match_scorecard, f, indent=4)\n",
    "\n",
    "print(f\"Match summary JSON file created: {output_file}\")\n"
   ]
  },
  {
   "cell_type": "code",
   "execution_count": null,
   "metadata": {},
   "outputs": [],
   "source": []
  }
 ],
 "metadata": {
  "kernelspec": {
   "display_name": "venv",
   "language": "python",
   "name": "python3"
  },
  "language_info": {
   "codemirror_mode": {
    "name": "ipython",
    "version": 3
   },
   "file_extension": ".py",
   "mimetype": "text/x-python",
   "name": "python",
   "nbconvert_exporter": "python",
   "pygments_lexer": "ipython3",
   "version": "3.12.2"
  }
 },
 "nbformat": 4,
 "nbformat_minor": 2
}
